{
 "cells": [
  {
   "cell_type": "code",
   "execution_count": null,
   "id": "orange-syracuse",
   "metadata": {},
   "outputs": [],
   "source": [
    "# Importing the libraries\n",
    "import numpy as np\n",
    "import tensorflow as tf\n",
    "import cv2"
   ]
  },
  {
   "cell_type": "code",
   "execution_count": null,
   "id": "laughing-bachelor",
   "metadata": {},
   "outputs": [],
   "source": [
    "# Loading trained model\n",
    "model = tf.keras.models.load_model('model.h5')"
   ]
  },
  {
   "cell_type": "code",
   "execution_count": null,
   "id": "compound-easter",
   "metadata": {},
   "outputs": [],
   "source": [
    "# Using image as an array for prediction function\n",
    "def recognize(img):\n",
    "    img = np.resize(img, (28,28,1))\n",
    "    img = np.expand_dims(img, axis=0)\n",
    "    img = np.asarray(img)\n",
    "    classes = model.predict(img)[0]\n",
    "    pred_id = list(classes).index(max(classes))\n",
    "    return pred_id"
   ]
  },
  {
   "cell_type": "code",
   "execution_count": null,
   "id": "pleased-noise",
   "metadata": {},
   "outputs": [],
   "source": [
    "# Initializing video frame\n",
    "cap = cv2.VideoCapture(0)\n",
    "\n",
    "while(True):\n",
    "    # Capture frame-by-frame\n",
    "    ret, frame = cap.read()\n",
    "\n",
    "    # Our operations on the frame come here\n",
    "    # Displaying border for hand region\n",
    "    frame = cv2.rectangle(frame, (40,100), (240,300), (0,255,0), thickness = 1)\n",
    "    \n",
    "    # Cropping hand region part\n",
    "    crop = frame[100:300, 40:240]\n",
    "    \n",
    "    # Converting to GRAY\n",
    "    img_gry = cv2.cvtColor(crop, cv2.COLOR_BGR2GRAY)\n",
    "    \n",
    "    # Applying Gaussian BLur                       \n",
    "    img_gry_blr = cv2.GaussianBlur(img_gry, (5,5), 0)\n",
    "    \n",
    "    # Resizing\n",
    "    img = cv2.resize(img_gry_blr, (28,28), interpolation = cv2.INTER_AREA)\n",
    "    \n",
    "    # Prediction\n",
    "    y_pred = recognize(img)\n",
    "    \n",
    "    # Character equivalent\n",
    "    char_op = chr(y_pred + 65)\n",
    "\n",
    "    cv2.putText(frame, char_op, (580,420), cv2.FONT_HERSHEY_SIMPLEX, 2, (255,255,0), 2)\n",
    "\n",
    "    # Display the resulting frame\n",
    "    cv2.imshow('frame', frame)\n",
    "    cv2.imshow('gry_blur', img_gry_blr)\n",
    "    if cv2.waitKey(1) & 0xFF == ord('q'):\n",
    "        break\n",
    "\n",
    "# Release the capture\n",
    "cap.release()\n",
    "cv2.destroyAllWindows()"
   ]
  },
  {
   "cell_type": "code",
   "execution_count": null,
   "id": "pressed-evening",
   "metadata": {},
   "outputs": [],
   "source": []
  }
 ],
 "metadata": {
  "kernelspec": {
   "display_name": "Python 3",
   "language": "python",
   "name": "python3"
  },
  "language_info": {
   "codemirror_mode": {
    "name": "ipython",
    "version": 3
   },
   "file_extension": ".py",
   "mimetype": "text/x-python",
   "name": "python",
   "nbconvert_exporter": "python",
   "pygments_lexer": "ipython3",
   "version": "3.8.5"
  }
 },
 "nbformat": 4,
 "nbformat_minor": 5
}
